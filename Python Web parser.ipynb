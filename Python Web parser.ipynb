{
 "cells": [
  {
   "cell_type": "code",
   "execution_count": 1,
   "metadata": {},
   "outputs": [],
   "source": [
    "from  bs4 import BeautifulSoup\n",
    "import pandas as pd\n",
    "import requests\n",
    "import re\n",
    "import time\n",
    "import xlrd\n",
    "\n",
    "url = 'https://www.domain.com.au/3-meldon-place-stanhope-gardens-nsw-2768-2014539320'"
   ]
  },
  {
   "cell_type": "code",
   "execution_count": 2,
   "metadata": {},
   "outputs": [],
   "source": [
    "def get_property_sold_bysuburb(postcode = 2768):\n",
    "    url = 'https://www.domain.com.au/sold-listings/?excludepricewithheld=1&ssubs=1&postcode={}'.format(postcode)\n",
    "    page = 1\n",
    "    master_list = []\n",
    "    while page < 51:\n",
    "        time.sleep(1)\n",
    "        response = requests.get(url + '&page=' + str(page))\n",
    "        soup = BeautifulSoup(response.text)\n",
    "\n",
    "        for link in soup.find_all('li', 'css-1wd84zj'):\n",
    "            try:\n",
    "                product_url = link.find(\"a\")[\"href\"]\n",
    "                #print(product_url)\n",
    "                master_list.append(product_url)\n",
    "            except:\n",
    "                pass\n",
    "\n",
    "        page = page + 1\n",
    "    return master_list"
   ]
  },
  {
   "cell_type": "code",
   "execution_count": 3,
   "metadata": {},
   "outputs": [],
   "source": [
    "def get_property_sold_bysuburb2(postcode = 2768):\n",
    "    url = 'https://www.domain.com.au/sold-listings/?excludepricewithheld=1&ssubs=1&postcode={}'.format(postcode)\n",
    "    page = 1\n",
    "    master_list = []\n",
    "    links_avail = True\n",
    "    while links_avail:\n",
    "        time.sleep(1)\n",
    "        response = requests.get(url + '&page=' + str(page))\n",
    "        soup = BeautifulSoup(response.text)\n",
    "        if len(soup.find_all('li', 'css-1wd84zj'))==0:\n",
    "                links_avail = False\n",
    "        for link in soup.find_all('li', 'css-1wd84zj'):\n",
    "            try:\n",
    "                product_url = link.find(\"a\")[\"href\"]\n",
    "                #print(product_url)\n",
    "                master_list.append(product_url)\n",
    "            except:\n",
    "                pass\n",
    "\n",
    "        page = page + 1\n",
    "    return master_list"
   ]
  },
  {
   "cell_type": "code",
   "execution_count": 9,
   "metadata": {},
   "outputs": [],
   "source": [
    "#get_property_sold_bysuburb(2768)\n",
    "def download_house_details_by_url_list(list_of_houses_sold):\n",
    "    house_data_list = []\n",
    "    for each_house in list_of_houses_sold:\n",
    "        time.sleep(1)\n",
    "        house_data_list.append(get_property_details(each_house))\n",
    "    return house_data_list\n"
   ]
  },
  {
   "cell_type": "code",
   "execution_count": 28,
   "metadata": {},
   "outputs": [],
   "source": [
    "house_data_list = download_house_details_by_url_list(get_property_sold_bysuburb2(2170))\n",
    "\n",
    "\n",
    "import pandas as pd\n",
    "new_house_df = pd.DataFrame(house_data_list, columns=['property_id',\n",
    "                                                   'Property_type',\n",
    "                                                   'Price',\n",
    "                                                   'Address',\n",
    "                                                   'Description',\n",
    "                                                   'date_sold',\n",
    "                                                   'Beds',\n",
    "                                                   'Bath',\n",
    "                                                   'Parking',\n",
    "                                                   'Property_Area',\n",
    "                                                   'Agent_Names',\n",
    "                                                   'Agency_Name',\n",
    "                                                   'School_catchments',\n",
    "                                                    'url'])\n",
    "new_house_df.to_excel('C:\\\\Users\\\\sunda\\OneDrive\\\\Documents\\\\Python\\\\RealEstate\\\\Downloaded Data\\\\House_price_data_2170.xlsx')"
   ]
  },
  {
   "cell_type": "code",
   "execution_count": 29,
   "metadata": {},
   "outputs": [
    {
     "data": {
      "text/html": [
       "<div>\n",
       "<style scoped>\n",
       "    .dataframe tbody tr th:only-of-type {\n",
       "        vertical-align: middle;\n",
       "    }\n",
       "\n",
       "    .dataframe tbody tr th {\n",
       "        vertical-align: top;\n",
       "    }\n",
       "\n",
       "    .dataframe thead th {\n",
       "        text-align: right;\n",
       "    }\n",
       "</style>\n",
       "<table border=\"1\" class=\"dataframe\">\n",
       "  <thead>\n",
       "    <tr style=\"text-align: right;\">\n",
       "      <th></th>\n",
       "      <th>property_id</th>\n",
       "      <th>Property_type</th>\n",
       "      <th>Price</th>\n",
       "      <th>Address</th>\n",
       "      <th>Description</th>\n",
       "      <th>date_sold</th>\n",
       "      <th>Beds</th>\n",
       "      <th>Bath</th>\n",
       "      <th>Parking</th>\n",
       "      <th>Property_Area</th>\n",
       "      <th>Agent_Names</th>\n",
       "      <th>Agency_Name</th>\n",
       "      <th>School_catchments</th>\n",
       "      <th>url</th>\n",
       "    </tr>\n",
       "  </thead>\n",
       "  <tbody>\n",
       "    <tr>\n",
       "      <th>0</th>\n",
       "      <td>2015122351</td>\n",
       "      <td>Apartment / Unit / Flat</td>\n",
       "      <td>376,000</td>\n",
       "      <td>10/1 Riverpark Drive, Liverpool NSW 2170</td>\n",
       "      <td>Set in the perfect location within walking dis...</td>\n",
       "      <td>17 Jun 2019</td>\n",
       "      <td>2</td>\n",
       "      <td>1</td>\n",
       "      <td>2</td>\n",
       "      <td>0</td>\n",
       "      <td>[Michael Montes de Oca]</td>\n",
       "      <td>Wiseberry Acclaim Prestons</td>\n",
       "      <td>[Liverpool Public School\\t0.7 km away\\n, Liver...</td>\n",
       "      <td>https://www.domain.com.au/10-1-riverpark-drive...</td>\n",
       "    </tr>\n",
       "    <tr>\n",
       "      <th>1</th>\n",
       "      <td>2015289798</td>\n",
       "      <td>House</td>\n",
       "      <td>717,000</td>\n",
       "      <td>218 Memorial Ave, Liverpool NSW 2170</td>\n",
       "      <td>A solid brick veneer home with plenty of stree...</td>\n",
       "      <td>15 Jun 2019</td>\n",
       "      <td>3</td>\n",
       "      <td>1</td>\n",
       "      <td>1</td>\n",
       "      <td>670</td>\n",
       "      <td>[Greg Andison]</td>\n",
       "      <td>Century 21 Combined Liverpool</td>\n",
       "      <td>[Liverpool West Public School\\t0.5 km away\\n, ...</td>\n",
       "      <td>https://www.domain.com.au/218-memorial-ave-liv...</td>\n",
       "    </tr>\n",
       "    <tr>\n",
       "      <th>2</th>\n",
       "      <td>2015292941</td>\n",
       "      <td>Vacant land</td>\n",
       "      <td>520,000</td>\n",
       "      <td>8 Sheahan Street, Warwick Farm NSW 2170</td>\n",
       "      <td>Stake your claim in Liverpool's development bo...</td>\n",
       "      <td>15 Jun 2019</td>\n",
       "      <td>0</td>\n",
       "      <td>0</td>\n",
       "      <td>0</td>\n",
       "      <td>0</td>\n",
       "      <td>[Greg Andison]</td>\n",
       "      <td>Century 21 Combined Liverpool</td>\n",
       "      <td>[Warwick Farm Public School\\t0.3 km away\\n, Li...</td>\n",
       "      <td>https://www.domain.com.au/8-sheahan-street-war...</td>\n",
       "    </tr>\n",
       "    <tr>\n",
       "      <th>3</th>\n",
       "      <td>2015294942</td>\n",
       "      <td>Apartment / Unit / Flat</td>\n",
       "      <td>480,000</td>\n",
       "      <td>Level 7, 39/65-69 Castlereagh  Street, Liverpo...</td>\n",
       "      <td>Located in a PRIME position minutes away from ...</td>\n",
       "      <td>14 Jun 2019</td>\n",
       "      <td>2</td>\n",
       "      <td>2</td>\n",
       "      <td>2</td>\n",
       "      <td>0</td>\n",
       "      <td>[Daniel Fletcher, Adrian Osorio]</td>\n",
       "      <td>Fletcher Property Group</td>\n",
       "      <td>[Liverpool Public School\\t0.6 km away\\n, Liver...</td>\n",
       "      <td>https://www.domain.com.au/level-7-39-65-69-cas...</td>\n",
       "    </tr>\n",
       "    <tr>\n",
       "      <th>4</th>\n",
       "      <td>2015297451</td>\n",
       "      <td>House</td>\n",
       "      <td>801,000</td>\n",
       "      <td>27 BARGO PLACE, Prestons NSW 2170</td>\n",
       "      <td>Approximately 9 years of age is this 28sq fami...</td>\n",
       "      <td>13 Jun 2019</td>\n",
       "      <td>4</td>\n",
       "      <td>3</td>\n",
       "      <td>2</td>\n",
       "      <td>0</td>\n",
       "      <td>[GAVIN BELCI]</td>\n",
       "      <td>Starr Partners Liverpool</td>\n",
       "      <td>[Dalmeny Public School\\t0.8 km away\\n, John Ed...</td>\n",
       "      <td>https://www.domain.com.au/27-bargo-place-prest...</td>\n",
       "    </tr>\n",
       "  </tbody>\n",
       "</table>\n",
       "</div>"
      ],
      "text/plain": [
       "  property_id            Property_type    Price  \\\n",
       "0  2015122351  Apartment / Unit / Flat  376,000   \n",
       "1  2015289798                    House  717,000   \n",
       "2  2015292941              Vacant land  520,000   \n",
       "3  2015294942  Apartment / Unit / Flat  480,000   \n",
       "4  2015297451                    House  801,000   \n",
       "\n",
       "                                             Address  \\\n",
       "0           10/1 Riverpark Drive, Liverpool NSW 2170   \n",
       "1               218 Memorial Ave, Liverpool NSW 2170   \n",
       "2            8 Sheahan Street, Warwick Farm NSW 2170   \n",
       "3  Level 7, 39/65-69 Castlereagh  Street, Liverpo...   \n",
       "4                  27 BARGO PLACE, Prestons NSW 2170   \n",
       "\n",
       "                                         Description    date_sold Beds Bath  \\\n",
       "0  Set in the perfect location within walking dis...  17 Jun 2019    2    1   \n",
       "1  A solid brick veneer home with plenty of stree...  15 Jun 2019    3    1   \n",
       "2  Stake your claim in Liverpool's development bo...  15 Jun 2019    0    0   \n",
       "3  Located in a PRIME position minutes away from ...  14 Jun 2019    2    2   \n",
       "4  Approximately 9 years of age is this 28sq fami...  13 Jun 2019    4    3   \n",
       "\n",
       "  Parking Property_Area                       Agent_Names  \\\n",
       "0       2             0           [Michael Montes de Oca]   \n",
       "1       1           670                    [Greg Andison]   \n",
       "2       0             0                    [Greg Andison]   \n",
       "3       2             0  [Daniel Fletcher, Adrian Osorio]   \n",
       "4       2             0                     [GAVIN BELCI]   \n",
       "\n",
       "                     Agency_Name  \\\n",
       "0     Wiseberry Acclaim Prestons   \n",
       "1  Century 21 Combined Liverpool   \n",
       "2  Century 21 Combined Liverpool   \n",
       "3        Fletcher Property Group   \n",
       "4       Starr Partners Liverpool   \n",
       "\n",
       "                                   School_catchments  \\\n",
       "0  [Liverpool Public School\\t0.7 km away\\n, Liver...   \n",
       "1  [Liverpool West Public School\\t0.5 km away\\n, ...   \n",
       "2  [Warwick Farm Public School\\t0.3 km away\\n, Li...   \n",
       "3  [Liverpool Public School\\t0.6 km away\\n, Liver...   \n",
       "4  [Dalmeny Public School\\t0.8 km away\\n, John Ed...   \n",
       "\n",
       "                                                 url  \n",
       "0  https://www.domain.com.au/10-1-riverpark-drive...  \n",
       "1  https://www.domain.com.au/218-memorial-ave-liv...  \n",
       "2  https://www.domain.com.au/8-sheahan-street-war...  \n",
       "3  https://www.domain.com.au/level-7-39-65-69-cas...  \n",
       "4  https://www.domain.com.au/27-bargo-place-prest...  "
      ]
     },
     "execution_count": 29,
     "metadata": {},
     "output_type": "execute_result"
    }
   ],
   "source": [
    "new_house_df.head()"
   ]
  },
  {
   "cell_type": "code",
   "execution_count": null,
   "metadata": {},
   "outputs": [],
   "source": [
    "new_house_df"
   ]
  },
  {
   "cell_type": "code",
   "execution_count": 30,
   "metadata": {},
   "outputs": [
    {
     "data": {
      "text/plain": [
       "(1000, 14)"
      ]
     },
     "execution_count": 30,
     "metadata": {},
     "output_type": "execute_result"
    }
   ],
   "source": [
    "new_house_df.shape"
   ]
  },
  {
   "cell_type": "code",
   "execution_count": null,
   "metadata": {},
   "outputs": [],
   "source": []
  },
  {
   "cell_type": "code",
   "execution_count": 11,
   "metadata": {},
   "outputs": [],
   "source": [
    "def get_property_details(url):\n",
    "    \n",
    "    response_domain = requests.get(url)\n",
    "    soup = BeautifulSoup(response_domain.text)\n",
    "    property_details = [get_property_id(soup),\n",
    "                        get_property_type(soup),\n",
    "                        get_property_price(soup),\n",
    "                        get_property_address(soup),\n",
    "                        get_property_description(soup),\n",
    "                        get_property_sale_date(soup),\n",
    "                        get_property_bedroom_count(soup),\n",
    "                        get_property_bathroom_count(soup),\n",
    "                        get_property_parking_count(soup),\n",
    "                        get_property_area(soup),\n",
    "                        get_property_agent_names(soup),\n",
    "                        get_property_agency(soup),\n",
    "                        get_school_catchment(soup),\n",
    "                        url\n",
    "        \n",
    "    ]\n",
    "    \n",
    "    return property_details"
   ]
  },
  {
   "cell_type": "code",
   "execution_count": 12,
   "metadata": {},
   "outputs": [],
   "source": [
    "#get_property_details('https://www.domain.com.au/18-charlie-yankos-street-glenwood-nsw-2768-2015215396')"
   ]
  },
  {
   "cell_type": "code",
   "execution_count": 13,
   "metadata": {},
   "outputs": [],
   "source": [
    "def get_property_id(soup):\n",
    "    \n",
    "    try:\n",
    "        property_titles = soup.find('title')\n",
    "        property_id = re.search(r'(\\w{9,11})\\s\\|\\sDomain', property_titles.text).group(1)\n",
    "         \n",
    "    except:\n",
    "        property_id = 9999999999\n",
    "    return property_id"
   ]
  },
  {
   "cell_type": "code",
   "execution_count": 14,
   "metadata": {},
   "outputs": [],
   "source": [
    "def get_property_address(soup):\n",
    "    try:\n",
    "        address_container = soup.find('div',  attrs={'class': 'listing-details__summary-title-container'})\n",
    "        address = address_container.find('h1').text\n",
    "    except:\n",
    "        address='NA'\n",
    "    return address"
   ]
  },
  {
   "cell_type": "code",
   "execution_count": 15,
   "metadata": {},
   "outputs": [],
   "source": [
    "def get_property_type(soup):\n",
    "    try:\n",
    "        property_type = soup.find('div', attrs={'class':'listing-details__key-features--value'}).text\n",
    "    except:\n",
    "        property_type='NA'\n",
    "    return property_type"
   ]
  },
  {
   "cell_type": "code",
   "execution_count": 16,
   "metadata": {},
   "outputs": [],
   "source": [
    "def get_property_price(soup):\n",
    "    try:\n",
    "        price_container = soup.find('div', attrs={'class':'listing-details__summary-title'}).text\n",
    "        price = re.search(r'\\$(.*)',price_container).group(1)\n",
    "    except:\n",
    "        price = 0\n",
    "    \n",
    "    return price"
   ]
  },
  {
   "cell_type": "code",
   "execution_count": 17,
   "metadata": {},
   "outputs": [],
   "source": [
    "def get_property_description(soup):\n",
    "    try:\n",
    "        property_desc_container = soup.find_all('div',attrs={'class':'listing-details__description'})\n",
    "        property_description = property_desc_container[0].find('p').text\n",
    "    except:\n",
    "        property_description = 'NA'\n",
    "    return property_description"
   ]
  },
  {
   "cell_type": "code",
   "execution_count": 18,
   "metadata": {},
   "outputs": [],
   "source": [
    "def get_property_sale_date(soup):\n",
    "    try:\n",
    "        property_titles = soup.find('title')\n",
    "        sold_date = re.search(r'on\\s(\\d{2}\\s\\D{3}\\s\\d{4})', property_titles.text).group(1)\n",
    "    except:\n",
    "        sold_date = 'NA'\n",
    "    return sold_date"
   ]
  },
  {
   "cell_type": "code",
   "execution_count": 19,
   "metadata": {},
   "outputs": [],
   "source": [
    "def get_property_bedroom_count(soup):\n",
    "    try:\n",
    "        house_features = soup.find_all('span',attrs={'class':'property-feature__feature'})\n",
    "        no_bedrooms = re.search(r'(\\d)\\s\\w+',house_features[0].text).group(1)\n",
    "    except:\n",
    "        no_bedrooms = 0\n",
    "    return no_bedrooms\n",
    "    "
   ]
  },
  {
   "cell_type": "code",
   "execution_count": 20,
   "metadata": {},
   "outputs": [],
   "source": [
    "def get_property_bathroom_count(soup):\n",
    "    try:\n",
    "        house_features = soup.find_all('span',attrs={'class':'property-feature__feature'})\n",
    "        no_bathrooms = re.search(r'(\\d)\\s\\w+',house_features[1].text).group(1)\n",
    "    except:\n",
    "        no_bathrooms = 0\n",
    "    return no_bathrooms"
   ]
  },
  {
   "cell_type": "code",
   "execution_count": 21,
   "metadata": {},
   "outputs": [],
   "source": [
    "def get_property_parking_count(soup):\n",
    "    try:\n",
    "        house_features = soup.find_all('span',attrs={'class':'property-feature__feature'})\n",
    "        no_parking = re.search(r'(\\d)\\s\\w+',house_features[2].text).group(1)\n",
    "    except:\n",
    "        no_parking = 0\n",
    "    return no_parking"
   ]
  },
  {
   "cell_type": "code",
   "execution_count": 22,
   "metadata": {},
   "outputs": [],
   "source": [
    "def get_property_area(soup):\n",
    "    try:\n",
    "        house_features = soup.find_all('span',attrs={'class':'property-feature__feature'})\n",
    "        property_area = re.search(r'(\\d+)',house_features[3].text).group(1)\n",
    "    except:\n",
    "        property_area = 0\n",
    "    return property_area"
   ]
  },
  {
   "cell_type": "code",
   "execution_count": 23,
   "metadata": {},
   "outputs": [],
   "source": [
    "def get_property_features(soup):\n",
    "    try:\n",
    "        property_features = []\n",
    "        property_features_container = soup.find_all('li',attrs={'class':'listing-details__additional-features-listing'})\n",
    "        for features in property_features_container:\n",
    "            property_features.append(features.text)\n",
    "    except:\n",
    "         property_features = []\n",
    "    return property_features"
   ]
  },
  {
   "cell_type": "code",
   "execution_count": 24,
   "metadata": {},
   "outputs": [],
   "source": [
    "def get_get_property_type(soup):\n",
    "    try:\n",
    "        property_type = soup.find('div', attrs={'class':'listing-details__key-features--value'}).text\n",
    "    except:\n",
    "        property_type = 'NA'\n",
    "    return property_type\n",
    "        "
   ]
  },
  {
   "cell_type": "code",
   "execution_count": 25,
   "metadata": {},
   "outputs": [],
   "source": [
    "def get_property_agent_names(soup):\n",
    "    re_agent_names = []\n",
    "    try:\n",
    "        agents_details_container = soup.find_all('div', attrs={'class':'listing-details__agent-enquiry'})\n",
    "        agent_names = agents_details_container[0].find_all('h3',attrs={'class':'listing-details__agent-enquiry-agent-name'})\n",
    "        for agent_name in agent_names:\n",
    "            re_agent_names.append(agent_name.text)\n",
    "    \n",
    "    except:\n",
    "        agent_names = 'NA'\n",
    "    return re_agent_names"
   ]
  },
  {
   "cell_type": "code",
   "execution_count": null,
   "metadata": {},
   "outputs": [],
   "source": []
  },
  {
   "cell_type": "code",
   "execution_count": 26,
   "metadata": {},
   "outputs": [],
   "source": [
    "def get_property_agency(soup):\n",
    "    try:\n",
    "        agents_details_container = soup.find_all('div', attrs={'class':'listing-details__agent-enquiry'})\n",
    "        agency_name = agents_details_container[0].find('p', attrs={'class':'listing-details__agent-enquiry-agent-company-name'}).text\n",
    "    except:\n",
    "        agency_name = 'NA'\n",
    "    return agency_name"
   ]
  },
  {
   "cell_type": "code",
   "execution_count": 27,
   "metadata": {},
   "outputs": [],
   "source": [
    "def get_school_catchment(soup):\n",
    "    schools_list = []\n",
    "    try:\n",
    "        school_container = soup.find_all('div',attrs={'class':re.compile('^school-catchment__school-summary-content')})\n",
    "        for school in school_container:\n",
    "            school_name = school.find('h5', attrs={'class':'school-catchment__school-title'})\n",
    "            school_distance = school.find('div', attrs={'class':'school-catchment__school-distance'})\n",
    "            schools_list.append(school_name.text + \"\\t\" + school_distance.text + '\\n')\n",
    "    except:\n",
    "        schools_list = []\n",
    "    \n",
    "    return schools_list"
   ]
  },
  {
   "cell_type": "code",
   "execution_count": null,
   "metadata": {},
   "outputs": [],
   "source": []
  },
  {
   "cell_type": "code",
   "execution_count": null,
   "metadata": {},
   "outputs": [],
   "source": []
  },
  {
   "cell_type": "code",
   "execution_count": null,
   "metadata": {},
   "outputs": [],
   "source": []
  },
  {
   "cell_type": "code",
   "execution_count": null,
   "metadata": {},
   "outputs": [],
   "source": []
  }
 ],
 "metadata": {
  "kernelspec": {
   "display_name": "Python 3",
   "language": "python",
   "name": "python3"
  },
  "language_info": {
   "codemirror_mode": {
    "name": "ipython",
    "version": 3
   },
   "file_extension": ".py",
   "mimetype": "text/x-python",
   "name": "python",
   "nbconvert_exporter": "python",
   "pygments_lexer": "ipython3",
   "version": "3.7.1"
  }
 },
 "nbformat": 4,
 "nbformat_minor": 2
}
